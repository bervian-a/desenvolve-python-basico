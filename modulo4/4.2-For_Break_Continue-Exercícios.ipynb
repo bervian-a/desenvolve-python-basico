{
 "cells": [
  {
   "cell_type": "markdown",
   "id": "29e89030",
   "metadata": {},
   "source": [
    "# Módulo 4 - Repetições\n",
    "\n",
    "## Aulas 4.2 - Comando ```for``` e 4.3 Break e Continue"
   ]
  },
  {
   "cell_type": "markdown",
   "id": "a45b42df",
   "metadata": {},
   "source": [
    "### Q1.\n",
    "\n",
    "Crie um programa em Python que utilize o comando for para imprimir os números de 10 a 1, em ordem decrescente."
   ]
  },
  {
   "cell_type": "code",
   "execution_count": null,
   "id": "55a75b3d",
   "metadata": {},
   "outputs": [],
   "source": [
    "\n",
    "for c in range (10, 0, -1):\n",
    "    print (c)"
   ]
  },
  {
   "cell_type": "markdown",
   "id": "94b47c36",
   "metadata": {},
   "source": [
    "### Q2.\n",
    "\n",
    "Dado um número inteiro positivo informado pelo usuário, crie um programa em Python que utilize o comando for para calcular e exibir a soma dos números de 1 até o número informado. Ou seja, $1 + 2 + 3 + ... + n$\n",
    "\n",
    "Exemplo de interação:\n",
    "```\n",
    "Digite um número: 5\n",
    "A soma dos números de 1 a 5 é 15\n",
    "```\n"
   ]
  },
  {
   "cell_type": "code",
   "execution_count": null,
   "id": "45b71596",
   "metadata": {},
   "outputs": [],
   "source": [
    "## Escreva e execute seu código aqui\n",
    "n = int (input(\"digite um numero: \"))\n",
    "soma=0\n",
    "for n in range (1, n+1):\n",
    "    soma += n\n",
    "print (soma)"
   ]
  },
  {
   "cell_type": "markdown",
   "id": "0411d170",
   "metadata": {},
   "source": [
    "### Q3.\n",
    "\n",
    "Escreva um programa que lê 10 valores inteiros positivos do usuário e ao final imprime a média dos valores digitados com duas casas decimais.\n",
    "\n",
    "```\n",
    "Digite 10 números positivos:\n",
    "3\n",
    "2\n",
    "12\n",
    "14\n",
    "20\n",
    "42\n",
    "19\n",
    "0\n",
    "8\n",
    "1\n",
    "A média dos valores digitados é 12.10\n",
    "```"
   ]
  },
  {
   "cell_type": "code",
   "execution_count": null,
   "id": "3f72f358",
   "metadata": {},
   "outputs": [],
   "source": [
    "## Escreva e execute seu código aqui\n",
    "\n",
    "cont = 0\n",
    "soma = 0\n",
    "\n",
    "while cont<10:\n",
    "    vinteiros = int (input(\"digite dez numeros inteiros: \"))\n",
    "    cont+=1\n",
    "    soma= soma + vinteiros\n",
    "print (f\"A média dos 10 valores é {soma/cont:.2f}\")"
   ]
  },
  {
   "cell_type": "markdown",
   "id": "d62e27ff",
   "metadata": {},
   "source": [
    "### Q4.\n",
    "\n",
    "Você vai criar um sistema que registra os resultados dos jogos do Atlético MG ao longo de um campeonato. Seu sistema vai receber os resultados de todos os jogos do Galo, e deve calcular a pontuação do time sabendo que vitórias valem 3 pontos, empates 1 ponto e derrotas 0 pontos.\n",
    "\n",
    "Entrada: <br>\n",
    "A primeira linha de entrada é um inteiro N com a quantidade jogos do galo. Para cada jogo você deve ler 2 inteiros, o primeiro com a quantidade de gols do galo e o segundo com a quantidade de gols do time oponente. \n",
    "\n",
    "Saída: <br>\n",
    "Apresente a soma de vitórias, empates e derrotas do galo, junto com o cálculo da pontuação total.\n",
    "\n",
    "Ex:\n",
    "```\n",
    "Entrada:\n",
    "4\n",
    "2\n",
    "0\n",
    "1\n",
    "1\n",
    "0\n",
    "3\n",
    "1\n",
    "0\n",
    "\n",
    "Saída:\n",
    "Vitórias: 2\n",
    "Empates: 1\n",
    "Derrotas: 1\n",
    "Pontuação: 7\n",
    "\n",
    "```\n",
    "\n",
    "\n"
   ]
  },
  {
   "cell_type": "code",
   "execution_count": null,
   "id": "d3fdfc2a",
   "metadata": {},
   "outputs": [],
   "source": [
    "n = int(input(\"digite o numero de jogos que aconteceram: \"))\n",
    "\n",
    "soma_vitorias, soma_empates, soma_derrotas = 0, 0, 0\n",
    "\n",
    "for jogo in range(n):\n",
    "    gols_galo = int(input(f\"Quantos gols o galo fez no jogo {jogo}: \"))\n",
    "    gols_op = int(input(f\"Quantos gols o galo tomou no jogo {jogo}: \"))\n",
    "\n",
    "    if gols_galo > gols_op:\n",
    "        soma_vitorias +=1\n",
    "    elif gols_galo < gols_op:\n",
    "        soma_derrotas +=1\n",
    "    else:\n",
    "        soma_empates +=1\n",
    "        \n",
    "\n",
    "#Saida\n",
    "print (\"total de vitorias: \", soma_vitorias)\n",
    "print (\"total de empates: \", soma_empates)\n",
    "print (\"total de derrotas: \", soma_derrotas)\n",
    "print (\"Pontuação total: \", 3*soma_vitorias + soma_empates)"
   ]
  },
  {
   "cell_type": "markdown",
   "id": "fc98604d",
   "metadata": {},
   "source": [
    "### Q5.\n",
    "\n",
    "Faça um programa que lê dois inteiros N e M, e imprime na tela um campo de batalha naval. O tabuleiro deve possuir N linhas e M colunas. A primeira linha é composta por um espaço em branco e o cabeçalho das colunas, ou seja, valores de 1 a M. As N linhas seguintes iniciam com o cabeçalho da linha, ou seja, seu número, seguido de M caracteres \"/\" (barra) indicando uma possível posição jogável. \n",
    "\n",
    "```\n",
    "Entrada:\n",
    "5\n",
    "4\n",
    "\n",
    "Saída:\n",
    "  1 2 3 4 \n",
    "1 / / / / \n",
    "2 / / / / \n",
    "3 / / / / \n",
    "4 / / / / \n",
    "5 / / / / \n",
    "```\n",
    "\n",
    "Para esse exercício, precisamos lembrar que o comando print implicitamente adiciona uma quebra de linha ao final da impressão. Podemos interferir no final da impressão adicionando mais uma entrada ao print. No exemplo, finalizamos cada linha com um espaço em branco:\n",
    "```python\n",
    "print(\"Texto qualquer\", end = \" \")\n",
    "```"
   ]
  },
  {
   "cell_type": "code",
   "execution_count": null,
   "id": "a60ef197",
   "metadata": {},
   "outputs": [],
   "source": [
    "#função corpo do tabuleiro:\n",
    "def cabecalho (l, c):\n",
    "    for i in range (1, (c+1)):\n",
    "        print (\" \", i, end = '')\n",
    "   \n",
    "def batalha_naval (l, c):\n",
    "    # para linhas e campo\n",
    "    tabuleiro = [['/' for _ in range(c)] for _ in range(l)]\n",
    "    numero_linha = 0\n",
    "    for l in tabuleiro:\n",
    "        print (f\"{numero_linha+1} \" , end = '')\n",
    "        print (\"  \".join(l))\n",
    "        numero_linha = numero_linha+1\n",
    "          \n",
    "print (\"para criar um tabuleiro de batalha naval digite o numero de linhas e colunas: \")\n",
    "l = int (input(\"n linhas: \"))\n",
    "c = int (input(\"m colums: \"))\n",
    "\n",
    "#cabecalho:\n",
    "cabecalho (l, c)\n",
    "print (\"\")\n",
    "#corpo do tabuleiro:\n",
    "batalha_naval (l, c)"
   ]
  },
  {
   "cell_type": "markdown",
   "id": "4654dc0b",
   "metadata": {},
   "source": [
    "---\n",
    "## Break e Continue"
   ]
  },
  {
   "cell_type": "markdown",
   "id": "24fe9d85",
   "metadata": {},
   "source": [
    "### Q6.\n",
    "\n",
    "Escreva um programa que lê uma quantidade indefinida de valores e informa o maior e o menor valor digitados. A leitura é encerrada quando o usuário digitar o valor 0 (zero).\n",
    "\n",
    "```\n",
    "Entrada:\n",
    "12\n",
    "-1\n",
    "29\n",
    "11\n",
    "-5\n",
    "0\n",
    "\n",
    "Saída:\n",
    "Maior: 29\n",
    "Menor: -5\n",
    "```"
   ]
  },
  {
   "cell_type": "code",
   "execution_count": null,
   "id": "ee1c466a",
   "metadata": {},
   "outputs": [],
   "source": [
    "## Escreva e execute seu código aqui\n",
    "#entrada\n",
    "\n",
    "maior = float ('-inf')\n",
    "menor = float ('inf')\n",
    "\n",
    "#processo\n",
    "while True:\n",
    "    n = int (input(\"digite um numero: \"))\n",
    "    if n == 0: break\n",
    "\n",
    "    if n > maior:\n",
    "        maior = n\n",
    "    if n < menor:\n",
    "        menor = n\n",
    "\n",
    "\n",
    "#Saida\n",
    "print (\"o maior valor digitado é:\" , maior)\n",
    "print (\"o menor valor digitado é:\" , menor)"
   ]
  },
  {
   "cell_type": "markdown",
   "id": "30d486f7",
   "metadata": {},
   "source": [
    "### Q7.\n",
    "\n",
    "Escreva um programa que lê uma quantidade indefinida de valores e informa o **produto** dos valores positivos digitados. A leitura é encerrada quando o usuário digitar o valor 0 (zero).\n",
    "\n",
    "```\n",
    "Entrada:\n",
    "2\n",
    "-1\n",
    "1\n",
    "3\n",
    "-5\n",
    "0\n",
    "\n",
    "Saída:\n",
    "Produto: 6\n",
    "```"
   ]
  },
  {
   "cell_type": "code",
   "execution_count": null,
   "id": "2f1ac324",
   "metadata": {},
   "outputs": [],
   "source": [
    "## Escreva e execute seu código aqui\n",
    "#entrada\n",
    "\n",
    "produto=1\n",
    "#processo\n",
    "while True:\n",
    "    n = int (input(\"digite um numero: \"))\n",
    "    if n == 0: break\n",
    "    if n<0:\n",
    "        continue\n",
    "    produto=produto*n\n",
    "\n",
    "\n",
    "#Saida\n",
    "print (\"o produto dos valores digitados é:\" , produto)"
   ]
  },
  {
   "cell_type": "markdown",
   "id": "e932f3cf",
   "metadata": {},
   "source": [
    "### Q8.\n",
    "\n",
    "Vamos fazer uma calculadora que aceita expressões aritméticas de qualquer tamanho até que o usuário digite a palavra \"Fim\". Sua calculadora executa apenas as operações \"+\", \"-\".\n",
    "\n",
    "```\n",
    "Entrada:\n",
    "5\n",
    "+\n",
    "8\n",
    "-\n",
    "3\n",
    "+\n",
    "2\n",
    "Fim\n",
    "\n",
    "Saída:\n",
    "12\n",
    "```"
   ]
  },
  {
   "cell_type": "code",
   "execution_count": null,
   "id": "e835d870",
   "metadata": {},
   "outputs": [],
   "source": [
    "## Escreva e execute seu código aqui\n",
    "\n",
    "#entrada\n",
    "\n",
    "total = 0\n",
    "\n",
    "#processo\n",
    "while True:\n",
    "    n = int (input(\"digite um numero: \"))\n",
    "    if n == 'fim': break\n",
    "    o = (input(\"digite o operador + ou -: \"))\n",
    "    if o == 'fim': break\n",
    "    if o == '+':\n",
    "        n += total + n\n",
    "        total = n\n",
    "    elif o == '-':\n",
    "        n -= total - n\n",
    "        total = n\n",
    "    else:\n",
    "        print(\"expressão não aceita\")\n",
    "        continue\n",
    "\n",
    "#Saida\n",
    "print (\"O total dos valores digitados é:\" , total)\n"
   ]
  }
 ],
 "metadata": {
  "kernelspec": {
   "display_name": "Python 3",
   "language": "python",
   "name": "python3"
  },
  "language_info": {
   "codemirror_mode": {
    "name": "ipython",
    "version": 3
   },
   "file_extension": ".py",
   "mimetype": "text/x-python",
   "name": "python",
   "nbconvert_exporter": "python",
   "pygments_lexer": "ipython3",
   "version": "3.13.2"
  }
 },
 "nbformat": 4,
 "nbformat_minor": 5
}
