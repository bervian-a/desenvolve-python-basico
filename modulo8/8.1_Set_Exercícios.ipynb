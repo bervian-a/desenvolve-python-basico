{
  "cells": [
    {
      "cell_type": "markdown",
      "id": "0d5035b5",
      "metadata": {
        "id": "0d5035b5"
      },
      "source": [
        "# Set\n",
        "\n",
        "## Aula 8.1"
      ]
    },
    {
      "cell_type": "markdown",
      "id": "0bdece85",
      "metadata": {
        "id": "0bdece85"
      },
      "source": [
        "### Q1.\n",
        "\n",
        "Dada uma string qualquer, use seu conhecimento de sets para apresentar os caracteres únicos que aparecem na string, ordenados alfabeticamente e sem duplicatas. Preste atenção em duplicatas de maiúsculas e minúsculas.\n"
      ]
    },
    {
      "cell_type": "code",
      "execution_count": 5,
      "id": "0a258eba",
      "metadata": {
        "colab": {
          "base_uri": "https://localhost:8080/"
        },
        "id": "0a258eba",
        "outputId": "a2acfec2-85e5-445c-9425-c6d742ebf8cb"
      },
      "outputs": [
        {
          "output_type": "stream",
          "name": "stdout",
          "text": [
            " abdenoprstu\n"
          ]
        }
      ],
      "source": [
        "frase = \"O rato roeu a roupa do Robson\"\n",
        "\n",
        "def caracteres_unicos_ordenados(s):\n",
        "\n",
        "    caracteres_unicos = set(s)\n",
        "\n",
        "    caracteres_ordenados = sorted(caracteres_unicos)\n",
        "\n",
        "    return ''.join(caracteres_ordenados)\n",
        "\n",
        "# Exemplo de uso\n",
        "frase = \"O rato roeu a roupa do Robson\"\n",
        "resultado = caracteres_unicos_ordenados(frase.lower())\n",
        "print(resultado)"
      ]
    },
    {
      "cell_type": "markdown",
      "id": "0856bd56",
      "metadata": {
        "id": "0856bd56"
      },
      "source": [
        "### Q2\n",
        "\n",
        "Desenvolva uma função em Python chamada ```tem_elementos_comuns()``` que recebe duas listas como parâmetros e retorna True se houver algum elemento comum entre as duas listas, e False caso contrário. Utilize sets para resolver essa tarefa."
      ]
    },
    {
      "cell_type": "code",
      "execution_count": 9,
      "id": "f7ab6736",
      "metadata": {
        "id": "f7ab6736"
      },
      "outputs": [],
      "source": [
        "# Implemente aqui a função tem_elementos_comuns()\n",
        "def tem_elementos_comuns(l1, l2):\n",
        "  s1 = set (l1)\n",
        "  s2 = set (l2)\n",
        "\n",
        "  if s1&s2:\n",
        "    return True\n",
        "  else:\n",
        "    return False"
      ]
    },
    {
      "cell_type": "code",
      "execution_count": 13,
      "id": "1022744a",
      "metadata": {
        "colab": {
          "base_uri": "https://localhost:8080/"
        },
        "id": "1022744a",
        "outputId": "6a492271-6b71-4820-ca63-7b186a641677"
      },
      "outputs": [
        {
          "output_type": "stream",
          "name": "stdout",
          "text": [
            "None\n"
          ]
        }
      ],
      "source": [
        "# Execute esta célula para testar a função da Q2.\n",
        "\n",
        "lista1 = [1, 2, 3, 4]\n",
        "lista2 = [3, 4, 5, 6, 7]\n",
        "resultado = tem_elementos_comuns(lista1, lista2)\n",
        "print(resultado)  # Saída esperada: True"
      ]
    },
    {
      "cell_type": "markdown",
      "id": "649a5082",
      "metadata": {
        "id": "649a5082"
      },
      "source": [
        "### Q3.\n",
        "\n",
        "Você vai coletar de diferentes turmas de alunos seus interesses em atividades extra curriculares dentre futebol, vôlei, rugby, música, teatro, ações comunitárias. Informe o conjunto de atividades comuns a todas a turmas. Pode preencher o iterável turmas com valores arbitrários.\n"
      ]
    },
    {
      "cell_type": "code",
      "execution_count": 17,
      "id": "880a9927",
      "metadata": {
        "id": "880a9927"
      },
      "outputs": [],
      "source": [
        "turmas = [\n",
        "     {'ações comunitárias', 'futebol', 'música', 'rugby'},\n",
        "     {'ações comunitárias', 'música', 'rugby', 'teatro'},\n",
        "     {'música', 'rugby', 'teatro', 'vôlei'},\n",
        "     {'música', 'vôlei', 'rugby'},\n",
        "     {'ações comunitárias', 'futebol', 'rugby', 'teatro', 'vôlei'},\n",
        "     {'ações comunitárias', 'futebol', 'rugby'},\n",
        "     {'ações comunitárias', 'rugby', 'teatro', 'vôlei'},\n",
        "     {'ações comunitárias', 'rugby', 'teatro', 'vôlei'},\n",
        "     {'ações comunitárias', 'rugby', 'vôlei'}\n",
        "]\n",
        "\n",
        "\n",
        "## Implemente aqui sua solução s&t\n",
        "inters = turmas[0]\n",
        "for turmas in turmas [1:]:\n",
        "  inters = inters.intersection(turmas)\n",
        "print (inters)\n",
        "\n",
        "#turmas [0].intersection (turmas[1] , turmas[2])\n"
      ]
    },
    {
      "cell_type": "markdown",
      "id": "021e2b1e",
      "metadata": {
        "id": "021e2b1e"
      },
      "source": [
        "### Q4.\n",
        "Considere duas listas que são duplicatas uma da outra, exceto por um elemento, exemplo:\n",
        "```\n",
        "A = [1, 4, 5, 7, 9]\n",
        "B = [4, 5, 7, 9]\n",
        "```\n",
        "\n",
        "Encontre e apresente o elemento diferente, informando também qual das listas está desfalcada. Para o exemplo acima, a saída esperada é\n",
        "```\n",
        "O elemento 1 está faltando na segunda lista\n",
        "```"
      ]
    },
    {
      "cell_type": "code",
      "execution_count": 19,
      "id": "608761a4",
      "metadata": {
        "colab": {
          "base_uri": "https://localhost:8080/"
        },
        "id": "608761a4",
        "outputId": "2a056abe-4df5-4d09-e9dc-137979b7110d"
      },
      "outputs": [
        {
          "output_type": "stream",
          "name": "stdout",
          "text": [
            "None\n"
          ]
        }
      ],
      "source": [
        "## Implemente aqui sua solução\n",
        "\n",
        "a = [1, 4, 5, 7, 9]\n",
        "b = [4, 5, 7, 9]\n",
        "\n",
        "set1 = set(a)\n",
        "set2 = set(b)\n",
        "\n",
        "if len(set1) > len(set2):\n",
        "        lista_faltando = \"lista2\"\n",
        "else:\n",
        "        lista_faltando = \"lista1\"\n",
        "\n",
        "print (f\"Elemento diferente é {set1^set2}, Lista desfalcada: {lista_faltando}\")"
      ]
    },
    {
      "cell_type": "markdown",
      "id": "ddf180c1",
      "metadata": {
        "id": "ddf180c1"
      },
      "source": [
        "### Q5.\n",
        "\n",
        "Panagramas são frases que contém todas as letras do alfabeto pelo menos uma vez. Crie uma função ```checa_panagrama``` que recebe uma string e retorna ```True``` caso seja um panagrama ou ```False```caso contrário. Use seu conhecimento de sets para solucionar essa questão.\n",
        "\n",
        "Ex:\n",
        "```\n",
        "Entrada: \"The quick brown fox jumps over the lazy dog\"\n",
        "Saída: É um panagrama\n",
        "```\n",
        "\n",
        "```\n",
        "Entrada: \"Python é uma linguagem de programação\"\n",
        "Saída: Não é um panagrama\n",
        "```"
      ]
    },
    {
      "cell_type": "code",
      "execution_count": null,
      "id": "4e8b0390",
      "metadata": {
        "id": "4e8b0390"
      },
      "outputs": [],
      "source": [
        "## Implemente aqui sua solução\n",
        "\n",
        "import string\n",
        "\n",
        "alfabeto = set(string.ascii_lowercase) #conjunto com todas as letras do alfabeto em minúsculas.\n",
        "\n",
        "eh_panagrama = input (\"digite uma frase para verificar se é panagrama: \")\n",
        "letras_frase = set(c.lower() for c in eh_panagrama if c.isalpha()) #cria um conjunto contendo todas as letras da string frase.\n",
        "\n",
        "if letras_frase == alfabeto:\n",
        "    print (f\"'{eh_panagrama}' é um panagrama\")\n",
        "else:\n",
        "    print (f\"'{eh_panagrama}' não é um panagrama\")\n"
      ]
    }
  ],
  "metadata": {
    "kernelspec": {
      "display_name": "Python 3 (ipykernel)",
      "language": "python",
      "name": "python3"
    },
    "language_info": {
      "codemirror_mode": {
        "name": "ipython",
        "version": 3
      },
      "file_extension": ".py",
      "mimetype": "text/x-python",
      "name": "python",
      "nbconvert_exporter": "python",
      "pygments_lexer": "ipython3",
      "version": "3.9.6"
    },
    "colab": {
      "provenance": []
    }
  },
  "nbformat": 4,
  "nbformat_minor": 5
}