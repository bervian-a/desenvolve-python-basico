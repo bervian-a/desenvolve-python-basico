{
 "cells": [
  {
   "cell_type": "markdown",
   "id": "cbdff5a5",
   "metadata": {},
   "source": [
    "# Módulo 5 - Funções\n",
    "\n",
    "## Aulas 5.2 - Funções Customizadas e 5.4 Funções ```lambda```"
   ]
  },
  {
   "cell_type": "markdown",
   "id": "28a3fee2",
   "metadata": {},
   "source": [
    "### Q1.\n",
    "\n",
    "- Sabendo que o código a seguir calcula o fatorial de n, escreva uma função chamada ```fatorial()``` que recebe um inteiro ```n``` como parâmetro e retorna o resultado do fatorial de ```n```. \n",
    "- No programa principal, peça ao usuário o valor de ```n```, chame a sua função e imprima o retorno.\n",
    "\n",
    "```python\n",
    "fat = 1\n",
    "for i in range(1, n+1):\n",
    "    fat *= i \n",
    "```"
   ]
  },
  {
   "cell_type": "code",
   "execution_count": null,
   "id": "d126b3a5",
   "metadata": {},
   "outputs": [],
   "source": [
    "## Crie aqui a função fatorial()\n",
    "## lembre-se de executar a célula para que \n",
    "## a função passe a existir e possa ser chamada\n",
    "\n",
    "def fatorial (m):\n",
    "    fat = 1\n",
    "    for i in range (1, m+1):\n",
    "        fat = fat*i\n",
    "    return fat"
   ]
  },
  {
   "cell_type": "code",
   "execution_count": null,
   "id": "6e4fe64e",
   "metadata": {},
   "outputs": [],
   "source": [
    "#entrada\n",
    "\n",
    "n = int (input (\"Digite um n inteiro: \"))\n",
    "\n",
    "def fatorial (m):\n",
    "    fat = 1\n",
    "    for i in range (1, m+1):\n",
    "        fat = fat*i\n",
    "    return fat\n",
    "\n",
    "valor_fatorial = fatorial (n)\n",
    "\n",
    "print (f\"Fatorial de {n} é {valor_fatorial}\") "
   ]
  },
  {
   "cell_type": "markdown",
   "id": "c0a1f599",
   "metadata": {},
   "source": [
    "### Q2.\n",
    "\n",
    "- Escreva uma função em Python chamada ```soma_quadrados``` que recebe dois números como parâmetros e retorna a soma dos seus quadrados. \n",
    "- No programa principal solicite ao usuário que insira dois números e utilize a função para exibir a soma dos quadrados."
   ]
  },
  {
   "cell_type": "code",
   "execution_count": null,
   "id": "6dbddaad",
   "metadata": {},
   "outputs": [],
   "source": [
    "## Crie aqui a função soma_quadrados()\n",
    "def soma_quadrados (n1, n2):\n",
    "    qn1 = n1**2\n",
    "    qn2 = n2**2\n",
    "    soma2 = qn1+qn2\n",
    "    return  soma2"
   ]
  },
  {
   "cell_type": "code",
   "execution_count": null,
   "id": "9175a7da",
   "metadata": {},
   "outputs": [],
   "source": [
    "## Escreva aqui o programa principal e execute a célula\n",
    "\n",
    "v1, v2 = int (input (\"Digite um n inteiro: \")), int (input (\"Digite um n inteiro: \"))\n",
    "valor_soma = soma_quadrados (v1, v2)\n",
    "\n",
    "print (f\"Soma dos quadrados de {v1 , v2} é {valor_soma}\") "
   ]
  },
  {
   "cell_type": "markdown",
   "id": "6ba34ce0",
   "metadata": {},
   "source": [
    "### Q3.\n",
    "\n",
    "- Crie uma função em Python chamada ```soma_digitos``` que recebe um número inteiro como parâmetro e retorna a soma dos seus dígitos. Por exemplo, para o número 123, a função deve retornar 6, $(1 + 2 + 3)$.\n",
    "    - O desafio aqui é separar os dígitos de um número inteiro usando operações aritméticas <br> <br>\n",
    "\n",
    "- No programa principal solicite ao usuário que insira um número e utilize a função ```soma_digitos``` para calcular e exibir a soma dos seus dígitos."
   ]
  },
  {
   "cell_type": "code",
   "execution_count": null,
   "id": "34838ebf",
   "metadata": {},
   "outputs": [],
   "source": [
    "## função soma_digitos()\n",
    "def soma_digitos(digitos):\n",
    "    somadigitos = 0\n",
    "    while digitos>0:\n",
    "        novo_digito = digitos%10\n",
    "        somadigitos = somadigitos + novo_digito\n",
    "        digitos = digitos // 10\n",
    "\n",
    "    return somadigitos"
   ]
  },
  {
   "cell_type": "code",
   "execution_count": null,
   "id": "27c35b21",
   "metadata": {},
   "outputs": [],
   "source": [
    "#entrada  processamento e saida\n",
    "\n",
    "m = int (input (\"Digite um n inteiro: \"))\n",
    "soma_de_digitos = soma_digitos (m)\n",
    "\n",
    "print (f\"Soma dos digitos de {m} é {soma_de_digitos}\") "
   ]
  },
  {
   "cell_type": "markdown",
   "id": "c318b159",
   "metadata": {},
   "source": [
    "### Q4.\n",
    "\n",
    "- Crie a função ```inverteValor()``` que recebe um inteiro de qualquer tamanho e retorna esse valor invertido usando apenas operações aritméticas\n",
    "- Crie a função ```verificaInverso()``` que recebe o valor original e o valor invertido e retorna verdadeiro se ambos forem igualmente par ou igualmente ímpar. Retorne falso caso contrário.\n",
    "- No programa principal, peça um valor do usuário e imprima o retorno de ambas as funções.\n"
   ]
  },
  {
   "cell_type": "code",
   "execution_count": null,
   "id": "e4e47d1d",
   "metadata": {},
   "outputs": [],
   "source": [
    "## Crie aqui as funções inverteValor() e verificaInverso()\n",
    "def inverteValor (original):\n",
    "    original_invertido = 0\n",
    "    while original>0:\n",
    "        digito = original%10\n",
    "        original_invertido = original_invertido*10 + digito\n",
    "        original = original//10\n",
    "    \n",
    "    return original_invertido\n",
    "\n",
    "def verificaInverso (original, inverso):\n",
    "    if original % 2 == 0 and inverso % 2 == 0:\n",
    "        return True\n",
    "    elif original % 2 != 0 and inverso % 2 !=0:\n",
    "        return True\n",
    "    else:\n",
    "        return False"
   ]
  },
  {
   "cell_type": "code",
   "execution_count": null,
   "id": "a9514e56",
   "metadata": {},
   "outputs": [],
   "source": [
    "## programa principal e execute a célula\n",
    "\n",
    "v = int (input (\"Digite um numero inteiro com 2 ou mais digitos: \"))\n",
    "inverter_valor = inverteValor (v)\n",
    "verificar_inverso = verificaInverso (v, inverter_valor)\n",
    "\n",
    "print (f\"Valor original é: {v} \\nValor inverso é {inverter_valor} \\nValor original e valor invertido são igualmente pares ou impares: {verificar_inverso}\") "
   ]
  },
  {
   "cell_type": "markdown",
   "id": "329be966",
   "metadata": {},
   "source": [
    "### Q5.\n",
    "\n",
    "Você está desenvolvendo um programa para auxiliar em cálculos de geometria básica. Crie as seguintes funções:\n",
    "- A função ```calcula_perimetro_triangulo()``` que recebe três inteiros correspondentes aos lados de um triângulo e retorna o perímetro do triângulo, ou seja, a soma dos seus lados.\n",
    "- A função ```calcula_perimetro_circulo()``` que recebe um inteiro referente ao raio do círculo e retorna o perímetro do círculo, dado por $2 \\pi r$. Use a constante $\\pi$ da biblioteca ```math```.\n",
    "- A função ```calcula_perimetro_retangulo()``` que possui um parâmetro obrigatório ```lado1``` e um opcional ```lado2```, ambos inteiros. Se o valor opcional não for fornecido, significa que se trata de um quadrado. Sua função deve calcular e retornar o perímetro do retângulo, ou seja, a soma de seus lados. \n",
    "    - Para o quadrado, é dado por $4 \\times lado1$\n",
    "    - Para o retângulo é dado por $2 \\times lado1 + 2 \\times lado2$\n",
    "    \n",
    "- No programa principal apresente um menu com as opções disponíveis do seu sistema e uma quarta opção ```Sair```. Solicite ao usuário a opção desejada, solicite as entradas correspondentes à opção escolhida, invoque a respective função e apresente o seu retorno. Seu programa deve retornar ao menu até que o usuário escolha a opção ```Sair```\n",
    "\n",
    "Exemplo de interação:\n",
    "```\n",
    "1 - Calcular perímetro triângulo\n",
    "2 - Calcular perímetro círculo\n",
    "3 - Calcular perímetro retângulo\n",
    "4 - Sair\n",
    "\n",
    "Opção: 1\n",
    "Digite os três lados do triângulo:\n",
    "3\n",
    "4\n",
    "5\n",
    "O perímetro é: 12\n",
    "\n",
    "1 - Calcular perímetro triângulo\n",
    "2 - Calcular perímetro círculo\n",
    "3 - Calcular perímetro retângulo\n",
    "4 - Sair\n",
    "\n",
    "Opção: 3\n",
    "Informe os dois lados do retângulo. Se for um quadrado, digite 0 para o segundo valor:\n",
    "5\n",
    "0\n",
    "O perímetro é: 20\n",
    "\n",
    "1 - Calcular perímetro triângulo\n",
    "2 - Calcular perímetro círculo\n",
    "3 - Calcular perímetro retângulo\n",
    "4 - Sair\n",
    "\n",
    "Opção: 4\n",
    "```"
   ]
  },
  {
   "cell_type": "code",
   "execution_count": null,
   "id": "0793d328",
   "metadata": {},
   "outputs": [],
   "source": [
    "##Funções-definir:\n",
    "\n",
    "def calcula_perimetro_triangulo (t1, t2, t3):\n",
    "    resultado_triangulo = t1 + t2 + t3\n",
    "    print (f\"Perimetro do triangulo é: {resultado_triangulo}\")\n",
    "    \n",
    "def calcula_perimetro_circulo (r):\n",
    "    resultado_circulo = math.pi*(2*r)\n",
    "    print (f\"Perimetro do circulo é: {resultado_circulo:.3f}\") \n",
    "    \n",
    "def calcula_perimetro_retangulo(l, l2=0):\n",
    "    resultado_retangulo = l*2 + l2*2\n",
    "    resultado_quadrado = l*4\n",
    "    if l2!=0:\n",
    "        print (f\"Perimetro do retangulo é: {resultado_retangulo}\")\n",
    "    if l2==0:   \n",
    "        print (f\"Perimetro do quadrado é: {resultado_quadrado}\")"
   ]
  },
  {
   "cell_type": "code",
   "execution_count": null,
   "id": "36269c71",
   "metadata": {},
   "outputs": [],
   "source": [
    "import math\n",
    "\n",
    "##Calculos geometria basica\n",
    "\n",
    "#Entrada processamento e saida\n",
    "while True:\n",
    "    print (\"1 - Calcular perímetro triângulo \\n2 - Calcular perímetro círculo \\n3 - Calcular perímetro retângulo \\n4 - Sair\")\n",
    "    funcao = int (input(\"Digite o numero da funcao que deseja executar\"))\n",
    "    if funcao == 4: break\n",
    "\n",
    "    if funcao == 1:\n",
    "        print (\"digite os 3 lados do triangulo\")\n",
    "        calcula_perimetro_triangulo (int (input ()) , int (input ()) , int (input ()))\n",
    " \n",
    "    elif funcao == 2:\n",
    "        print (\"digite o raio do circulo\")\n",
    "        calcula_perimetro_circulo (int (input ()))\n",
    "    \n",
    "    elif funcao == 3:\n",
    "        print (\"digite o lado do quadrado e '0' ou os lados do retangulo\")\n",
    "        calcula_perimetro_retangulo  (int (input ()) , int (input ()))\n",
    "    else:\n",
    "        print (\"Opcao invalida, tente novamente: \")\n",
    "        continue"
   ]
  },
  {
   "cell_type": "markdown",
   "id": "3016bcc7",
   "metadata": {},
   "source": [
    "## Funções ```lambda```"
   ]
  },
  {
   "cell_type": "markdown",
   "id": "f9cdb8dd",
   "metadata": {},
   "source": [
    "### Q6.\n",
    "\n",
    "Crie uma função lambda para verificar se um número é par ou ímpar. Em seguida, solicite ao usuário um número indefinidos de valores (até que o usuário digite 0). Para cada valor de entrada, informe se é par ou ímpar.\n",
    "\n",
    "Exemplo de interação:\n",
    "```\n",
    "Digite os valores que deseja verificar a paridade (digite 0 para finalizar a entrada de dados):\n",
    "3\n",
    "ímpar\n",
    "8\n",
    "par\n",
    "12\n",
    "par\n",
    "5\n",
    "ímpar\n",
    "7ímpar\n",
    "```"
   ]
  },
  {
   "cell_type": "code",
   "execution_count": null,
   "id": "e3c31a78",
   "metadata": {},
   "outputs": [],
   "source": [
    "\n",
    "par_impar = lambda a: w%2 == 0\n",
    "\n",
    "while True:\n",
    "   w = int (input(\"digite um numero para saber se é par ou impar: \"))\n",
    "   if w == 0: break\n",
    "   else:\n",
    "      if par_impar (w):\n",
    "        print (\"Par\")\n",
    "      else: print (\"Impar\")"
   ]
  },
  {
   "cell_type": "markdown",
   "id": "5a87474d",
   "metadata": {},
   "source": [
    "### Q7.\n",
    "\n",
    "Escreva um programa que pergunte ao usuário qual operação ele deseja: maior ou menor.\n",
    "Em seguida leia uma quantidade indefinida de valores do usuário, até que o usuário digite o valor zero.\n",
    "Apresente ao final o maior ou menor dos valores digitados de acordo com a escolha do usuário.\n",
    "\n",
    "**Sua solução deve incluir pelo menos uma função ```lambda```** \n",
    "\n",
    "Exemplo de interação:\n",
    "```\n",
    "Opções: (1) maior ou (2) menor?\n",
    "Opção: 1\n",
    "\n",
    "Digite os valores de entrada. Digite 0 para finalizar a entrada de valores.\n",
    "4\n",
    "12\n",
    "15\n",
    "1\n",
    "0\n",
    "\n",
    "O maior valor é: 15\n",
    "```"
   ]
  },
  {
   "cell_type": "code",
   "execution_count": null,
   "id": "ee3f68ca",
   "metadata": {},
   "outputs": [],
   "source": [
    "## Escreva aqui o programa principal \n",
    "opcao = input (\"Deseja realizar qual função: > ou <? \")\n",
    "if opcao == \">\":\n",
    "    resultado = float(\"-inf\")\n",
    "    definir_n = lambda a, b: a>b\n",
    "elif opcao == \"<\":\n",
    "    resultado = float(\"inf\")\n",
    "    definir_n = lambda a, b: a<b\n",
    "else:\n",
    "    print (\"Erro, simbolo digitado errado. Recomece!\")\n",
    "    \n",
    "while True:\n",
    "   n = int (input(\"Digite os valores. Para finalizar digite 0: \"))\n",
    "   if n == 0: break\n",
    "   if definir_n (n, resultado):\n",
    "      resultado = n\n",
    "\n",
    "print (resultado)"
   ]
  }
 ],
 "metadata": {
  "kernelspec": {
   "display_name": "Python 3 (ipykernel)",
   "language": "python",
   "name": "python3"
  },
  "language_info": {
   "codemirror_mode": {
    "name": "ipython",
    "version": 3
   },
   "file_extension": ".py",
   "mimetype": "text/x-python",
   "name": "python",
   "nbconvert_exporter": "python",
   "pygments_lexer": "ipython3",
   "version": "3.9.6"
  }
 },
 "nbformat": 4,
 "nbformat_minor": 5
}
